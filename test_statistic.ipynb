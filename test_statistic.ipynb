{
 "cells": [
  {
   "cell_type": "markdown",
   "metadata": {},
   "source": [
    "To determine whether the group from the Honolulu Heart Study is significantly different from the regular population with respect to systolic blood pressure, we can perform a **one-sample t-test**. Here's how we can set up and conduct the hypothesis test:\n",
    "\n",
    "**1) Arrange the Hypothesis Test**\n",
    "- _Null Hypothesis_ $(H_0)$: The mean systolic blood pressure of the group is equal to the population mean. \n",
    "    - $H_0:\\mu=120$\n",
    "- _Alternative Hypothesis_ $(H_1)$: The mean systolic blood pressure of the group is not equal to the population mean.\n",
    "    - $H_1:\\mu\\ne120$\n",
    "\n",
    "    This is a _two-tailed test_ because we are testing for a difference, not just an increase or decrease.\n",
    "\n",
    "**2) Define the Significance Level**\n",
    "- We assume a significance level of $\\alpha=0.05$. In other words, we are willing to accept a 5% chance of rejecting the null hypothesis when it is true. \n",
    "\n",
    "**3) Calculate the Test Statistic**\n",
    "\n",
    "- The formula for the _t-statistic_ in a one-sample t-test is:\n",
    "\n",
    "    $t = \\dfrac{\\bar{x}- \\mu}{s/\\sqrt n}$\n",
    "\n",
    "    where:\n",
    "\n",
    "    - $\\bar{x}$ = sample mean (130.1 mm Hg) \n",
    "    - $\\mu$ = population mean (120 mm Hg)\n",
    "    - $s$ = sample standard deviation (21.21 mm Hg)\n",
    "    - $n$ = sample size (100)\n",
    "\n",
    "    Substitute the values into the formula:\n",
    "\n",
    "    - $t = \\dfrac{130.1 - 120}{21.21 / \\sqrt{100}} \\approx 4.76190$\n",
    "\n"
   ]
  },
  {
   "cell_type": "markdown",
   "metadata": {},
   "source": [
    "****"
   ]
  },
  {
   "cell_type": "markdown",
   "metadata": {},
   "source": [
    "**4) Python Script to Calculate the Test Statistic**"
   ]
  },
  {
   "cell_type": "code",
   "execution_count": 1,
   "metadata": {},
   "outputs": [
    {
     "name": "stdout",
     "output_type": "stream",
     "text": [
      "Calculated t-statistic: 4.76190\n"
     ]
    }
   ],
   "source": [
    "import numpy as np\n",
    "from scipy import stats\n",
    "\n",
    "# Given data\n",
    "sample_mean = 130.1\n",
    "population_mean = 120\n",
    "sample_std = 21.21\n",
    "sample_size = 100\n",
    "\n",
    "# Calculate the t-statistic\n",
    "t_statistic = (sample_mean - population_mean) / (sample_std / np.sqrt(sample_size))\n",
    "\n",
    "print(f\"Calculated t-statistic: {t_statistic:.5f}\")"
   ]
  },
  {
   "cell_type": "markdown",
   "metadata": {},
   "source": [
    "**5) Make a Decision**\n",
    "- To determine whether the result is statistically significant, we compare the calculated t-statistic to the **critical t-value** from the t-distribution table (or using Python).\n",
    "\n",
    "- **Critical t-value:**\n",
    "    - Degrees of freedom $df = n - 1 = 99$\n",
    "    - For a two-tailed test at $\\alpha = 0.05$, the critical t-value is approximately $\\pm 1.984$.\n",
    "\n",
    "- **Comparison:**\n",
    "    - If the calculated t-statistic falls outside the range $[-1.984, 1.984]$, we reject the null hypothesis.\n",
    "    - Since $4.76190 > 1.984$, we reject the null hypothesis. \n",
    "\n",
    "**6) Conclusion**\n",
    "- There is sufficient evidence to conclude that the group from the Honolulu Heart Study has a significantly different mean systolic blood pressure compared to the regular population $(p < 0.05)$."
   ]
  }
 ],
 "metadata": {
  "kernelspec": {
   "display_name": "Python 3",
   "language": "python",
   "name": "python3"
  },
  "language_info": {
   "codemirror_mode": {
    "name": "ipython",
    "version": 3
   },
   "file_extension": ".py",
   "mimetype": "text/x-python",
   "name": "python",
   "nbconvert_exporter": "python",
   "pygments_lexer": "ipython3",
   "version": "3.11.9"
  }
 },
 "nbformat": 4,
 "nbformat_minor": 2
}
